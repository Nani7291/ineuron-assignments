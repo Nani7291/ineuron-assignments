{
 "cells": [
  {
   "cell_type": "markdown",
   "id": "4ac9602a",
   "metadata": {},
   "source": [
    "## Python Basic Programming Assignment - 5\n",
    "--------------\n"
   ]
  },
  {
   "cell_type": "markdown",
   "id": "fdaeee06",
   "metadata": {},
   "source": [
    "### 1. Write a Python Program to Find LCM?"
   ]
  },
  {
   "cell_type": "code",
   "execution_count": 14,
   "id": "ae19507c",
   "metadata": {},
   "outputs": [
    {
     "name": "stdout",
     "output_type": "stream",
     "text": [
      "Enter any value of n1:24\n",
      "Enter any value of n2:48\n",
      "The L.C.M. is 48\n"
     ]
    }
   ],
   "source": [
    "def compute_lcm(x, y):\n",
    "\n",
    "# choose the greater number\n",
    "   if x > y:\n",
    "       greater = x\n",
    "   else:\n",
    "       greater = y\n",
    "\n",
    "   while(True):\n",
    "       if((greater % x == 0) and (greater % y == 0)):\n",
    "           lcm = greater\n",
    "           break\n",
    "       greater += 1\n",
    "\n",
    "   return lcm\n",
    "\n",
    "n1 = int(input(\"Enter any value of n1:\"))\n",
    "n2 = int(input(\"Enter any value of n2:\"))\n",
    "\n",
    "print(\"The L.C.M. is\", compute_lcm(n1, n2))"
   ]
  },
  {
   "cell_type": "markdown",
   "id": "2f459cdf",
   "metadata": {},
   "source": [
    "### 2. Write a Python Program to Find HCF?"
   ]
  },
  {
   "cell_type": "code",
   "execution_count": 17,
   "id": "ef2daf8a",
   "metadata": {},
   "outputs": [
    {
     "name": "stdout",
     "output_type": "stream",
     "text": [
      "enter n1 value:26\n",
      "enter n2 value:13\n",
      "The H.C.F. is 13\n"
     ]
    }
   ],
   "source": [
    "def compute_hcf(x, y):\n",
    "\n",
    "# choose the smaller number\n",
    "    if x > y:\n",
    "        smaller = y\n",
    "    else:\n",
    "        smaller = x\n",
    "    for i in range(1, smaller+1):\n",
    "        if((x % i == 0) and (y % i == 0)):\n",
    "            hcf = i \n",
    "    return hcf\n",
    "\n",
    "n1 = int(input(\"enter n1 value:\"))\n",
    "n2 = int(input(\"enter n2 value:\"))\n",
    "print(\"The H.C.F. is\", compute_hcf(n1, n2))"
   ]
  },
  {
   "cell_type": "markdown",
   "id": "d2c29370",
   "metadata": {},
   "source": [
    "# 3. Write a Python Program to Convert Decimal to Binary, Octal and Hexadecimal?"
   ]
  },
  {
   "cell_type": "code",
   "execution_count": 29,
   "id": "cc27e8ee",
   "metadata": {},
   "outputs": [
    {
     "name": "stdout",
     "output_type": "stream",
     "text": [
      "Enter any value:15\n",
      "binary value: 0b1111\n",
      "octant value: 0o17\n",
      "hexadecimal value: 0xf\n"
     ]
    }
   ],
   "source": [
    "n=int(input(\"Enter any value:\"))\n",
    "n1=bin(n)\n",
    "n2=oct(n)\n",
    "n3=hex(n)\n",
    "print(\"binary value:\",n1)\n",
    "print(\"octant value:\",n2)\n",
    "print(\"hexadecimal value:\",n3)"
   ]
  },
  {
   "cell_type": "markdown",
   "id": "2a16c5fd",
   "metadata": {},
   "source": [
    "### 4. Write a Python Program To Find ASCII value of a character?"
   ]
  },
  {
   "cell_type": "code",
   "execution_count": 26,
   "id": "399ee4cb",
   "metadata": {
    "scrolled": true
   },
   "outputs": [
    {
     "name": "stdout",
     "output_type": "stream",
     "text": [
      "Enter character:A\n",
      "The ASCII value of 'A' is 65\n"
     ]
    }
   ],
   "source": [
    "c =input(\"Enter character:\")\n",
    "print(\"The ASCII value of '\" + c + \"' is\", ord(c))"
   ]
  },
  {
   "cell_type": "markdown",
   "id": "226778a0",
   "metadata": {},
   "source": [
    "### 5. Write a Python Program to Make a Simple Calculator with 4 basic mathematical operations?"
   ]
  },
  {
   "cell_type": "code",
   "execution_count": 30,
   "id": "12292a75",
   "metadata": {},
   "outputs": [
    {
     "name": "stdout",
     "output_type": "stream",
     "text": [
      "--------------------------------------------------\n",
      "select any operator:\n",
      "1.addition:\n",
      "2.substraction:\n",
      "3.multiplication:\n",
      "4.division:\n",
      "5. sqaure:\n",
      "6.cube:\n",
      "7. Average:\n",
      "\n",
      "--------------------------------------------------\n",
      "choose any math calculation:1\n",
      "Enter First number:15\n",
      "Enter Second number:25\n",
      "addition: 40\n",
      "Do you want continue(y/n):n\n"
     ]
    }
   ],
   "source": [
    "def addition(a,b):\n",
    "    return(a+b)\n",
    "def substraction(a,b):\n",
    "    return(a-b)\n",
    "def multiplication(a,b):\n",
    "    return(a*b)\n",
    "def division(a,b):\n",
    "    return(a/b)\n",
    "def Square(a):\n",
    "    return(a*a)\n",
    "def Cube(a):\n",
    "    return(a*a*a)\n",
    "def Average(a,b):\n",
    "    return((a+b)/2)\n",
    "\n",
    "print(\"--------------------------------------------------\")\n",
    "print(\"select any operator:\\n\"  \\\n",
    "          \"1.addition:\\n\"  \\\n",
    "          \"2.substraction:\\n\"  \\\n",
    "          \"3.multiplication:\\n\"  \\\n",
    "          \"4.division:\\n\"  \\\n",
    "          \"5. sqaure:\\n\"  \\\n",
    "          \"6.cube:\\n\"  \\\n",
    "          \"7. Average:\\n\")\n",
    "print(\"--------------------------------------------------\")\n",
    "    \n",
    "choice='y'\n",
    "while(choice=='y'):\n",
    "    select=int(input(\"choose any math calculation:\"))\n",
    "    if (select in(1,2,3,4,5,6,7)):\n",
    "        a=int(input(\"Enter First number:\"))\n",
    "    if(select in(1,2,3,4,7)):\n",
    "            b=int(input(\"Enter Second number:\"))  \n",
    "    if select==1:\n",
    "        print(\"addition:\",addition(a,b))\n",
    "    elif select==2:\n",
    "        print(\"substraction:\",substraction(a,b))\n",
    "    elif select==3:\n",
    "        print(\"multiplication:\",multiplication(a,b))\n",
    "    elif select==4:\n",
    "        print(\"division:\",division(a,b))\n",
    "    elif select==5:\n",
    "        print(\"Square values=\",Square(a))\n",
    "    elif select==6: \n",
    "        print(\"Cube values=\",Cube(a))\n",
    "    elif select==7:\n",
    "        print(\"Average values=\",Average(a,b))\n",
    "    else:\n",
    "        print(\"invalid operator\")       \n",
    "    choice=input(\"Do you want continue(y/n):\")\n",
    "    if(choice=='n'):\n",
    "            break;\n"
   ]
  },
  {
   "cell_type": "code",
   "execution_count": null,
   "id": "af36793a",
   "metadata": {},
   "outputs": [],
   "source": []
  }
 ],
 "metadata": {
  "kernelspec": {
   "display_name": "Python 3 (ipykernel)",
   "language": "python",
   "name": "python3"
  },
  "language_info": {
   "codemirror_mode": {
    "name": "ipython",
    "version": 3
   },
   "file_extension": ".py",
   "mimetype": "text/x-python",
   "name": "python",
   "nbconvert_exporter": "python",
   "pygments_lexer": "ipython3",
   "version": "3.9.7"
  }
 },
 "nbformat": 4,
 "nbformat_minor": 5
}
