{
 "cells": [
  {
   "cell_type": "markdown",
   "id": "9b304197",
   "metadata": {},
   "source": [
    "# Python Basic Programming Assignment 8"
   ]
  },
  {
   "cell_type": "markdown",
   "id": "22789ae6",
   "metadata": {},
   "source": [
    "### 1. Write a Python Program to Add Two Matrices?"
   ]
  },
  {
   "cell_type": "code",
   "execution_count": 2,
   "id": "5129881c",
   "metadata": {},
   "outputs": [
    {
     "name": "stdout",
     "output_type": "stream",
     "text": [
      "[17, 15, 4]\n",
      "[10, 12, 9]\n",
      "[11, 13, 18]\n"
     ]
    }
   ],
   "source": [
    "X = [[12,7,3],\n",
    "    [4 ,5,6],\n",
    "    [7 ,8,9]]\n",
    "\n",
    "Y = [[5,8,1],\n",
    "    [6,7,3],\n",
    "    [4,5,9]]\n",
    "\n",
    "result = [[X[i][j] + Y[i][j]  \n",
    "    for j in range(len(X[0]))] \n",
    "          for i in range(len(X))]\n",
    "\n",
    "for r in result:\n",
    "   print(r)"
   ]
  },
  {
   "cell_type": "markdown",
   "id": "044ceda6",
   "metadata": {},
   "source": [
    "### 2. Write a Python Program to Multiply Two Matrices?"
   ]
  },
  {
   "cell_type": "code",
   "execution_count": 4,
   "id": "6f5db5e9",
   "metadata": {},
   "outputs": [
    {
     "name": "stdout",
     "output_type": "stream",
     "text": [
      "[114 160  60  27]\n",
      "[74 97 73 14]\n",
      "[119 157 112  23]\n"
     ]
    }
   ],
   "source": [
    "import numpy as np\n",
    "\n",
    "A = [[12, 7, 3],\n",
    "    [4, 5, 6],\n",
    "    [7, 8, 9]]\n",
    " \n",
    "# take a 3x4 matrix\n",
    "B = [[5, 8, 1, 2],\n",
    "    [6, 7, 3, 0],\n",
    "    [4, 5, 9, 1]]\n",
    " \n",
    "# result will be 3x4\n",
    " \n",
    "result= [[0,0,0,0],\n",
    "        [0,0,0,0],\n",
    "        [0,0,0,0]]\n",
    " \n",
    "result = np.dot(A,B)\n",
    " \n",
    "for r in result:\n",
    "    print(r)"
   ]
  },
  {
   "cell_type": "markdown",
   "id": "5f688e46",
   "metadata": {},
   "source": [
    "### 3. Write a Python Program to Transpose a Matrix?"
   ]
  },
  {
   "cell_type": "code",
   "execution_count": 6,
   "id": "f924d61c",
   "metadata": {},
   "outputs": [
    {
     "name": "stdout",
     "output_type": "stream",
     "text": [
      "[[ 4 12]\n",
      " [ 1  3]]\n"
     ]
    }
   ],
   "source": [
    "import numpy as np\n",
    "              \n",
    "A= np.matrix('[4, 1; 12, 3]')\n",
    "              \n",
    "geek = A.transpose()\n",
    "    \n",
    "print(geek)"
   ]
  },
  {
   "cell_type": "markdown",
   "id": "b2849025",
   "metadata": {},
   "source": [
    "\n",
    "### 4. Write a Python Program to Sort Words in Alphabetic Order?\n"
   ]
  },
  {
   "cell_type": "code",
   "execution_count": 7,
   "id": "873199d5",
   "metadata": {},
   "outputs": [
    {
     "name": "stdout",
     "output_type": "stream",
     "text": [
      "Enter a string: I am Vinod Kumar\n",
      "I\n",
      "Kumar\n",
      "Vinod\n",
      "am\n"
     ]
    }
   ],
   "source": [
    "my_str = input(\"Enter a string: \")  \n",
    "# breakdown the string into a list of words  \n",
    "words = my_str.split()  \n",
    "# sort the list  \n",
    "words.sort()  \n",
    "# display the sorted words  \n",
    "for word in words:  \n",
    "   print(word)"
   ]
  },
  {
   "cell_type": "markdown",
   "id": "48ac7b24",
   "metadata": {},
   "source": [
    "### 5. Write a Python Program to Remove Punctuation From a String?"
   ]
  },
  {
   "cell_type": "code",
   "execution_count": 8,
   "id": "03828871",
   "metadata": {},
   "outputs": [
    {
     "name": "stdout",
     "output_type": "stream",
     "text": [
      "The original string is : Lerning, Full $ stack Data analyst at@ Ineuron ! \n",
      "The string after punctuation filter : Lerning Full  stack Data analyst at Ineuron  \n"
     ]
    }
   ],
   "source": [
    "import re\n",
    " \n",
    "# initializing string\n",
    "test_str = \"Lerning, Full $ stack Data analyst at@ Ineuron ! \"\n",
    " \n",
    "# printing original string\n",
    "print(\"The original string is : \" + test_str)\n",
    " \n",
    "# Removing punctuations in string\n",
    "# Using regex\n",
    "res = re.sub(r'[^\\w\\s]', '', test_str)\n",
    " \n",
    "# printing result\n",
    "print(\"The string after punctuation filter : \" + res)"
   ]
  },
  {
   "cell_type": "code",
   "execution_count": null,
   "id": "8928df50",
   "metadata": {},
   "outputs": [],
   "source": []
  }
 ],
 "metadata": {
  "kernelspec": {
   "display_name": "Python 3 (ipykernel)",
   "language": "python",
   "name": "python3"
  },
  "language_info": {
   "codemirror_mode": {
    "name": "ipython",
    "version": 3
   },
   "file_extension": ".py",
   "mimetype": "text/x-python",
   "name": "python",
   "nbconvert_exporter": "python",
   "pygments_lexer": "ipython3",
   "version": "3.9.7"
  }
 },
 "nbformat": 4,
 "nbformat_minor": 5
}
