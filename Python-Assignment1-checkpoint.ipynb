{
 "cells": [
  {
   "cell_type": "markdown",
   "id": "637b47a5",
   "metadata": {},
   "source": [
    "## Programming Assignment_1\n",
    "-------------"
   ]
  },
  {
   "cell_type": "markdown",
   "id": "0c647dbe",
   "metadata": {},
   "source": [
    "### 1. Write a Python program to print \"Hello Python\"?"
   ]
  },
  {
   "cell_type": "code",
   "execution_count": 1,
   "id": "341f7ea6",
   "metadata": {},
   "outputs": [
    {
     "name": "stdout",
     "output_type": "stream",
     "text": [
      "Hello Python\n"
     ]
    }
   ],
   "source": [
    "print(\"Hello Python\")"
   ]
  },
  {
   "cell_type": "markdown",
   "id": "fc18a6cd",
   "metadata": {},
   "source": [
    "### 2. Write a Python program to do arithmetical operations addition and division.?\n"
   ]
  },
  {
   "cell_type": "code",
   "execution_count": 2,
   "id": "87193b8c",
   "metadata": {},
   "outputs": [
    {
     "name": "stdout",
     "output_type": "stream",
     "text": [
      "Enter any value a :15\n",
      "Enter any value b:3\n",
      "addition 18\n",
      "division for float quotient 5.0\n",
      "divison for integer quotient 5\n",
      "division for remainder 0\n"
     ]
    }
   ],
   "source": [
    "a=int(input(\"Enter any value a :\"))\n",
    "b=int(input(\"Enter any value b:\"))\n",
    "c=a+b\n",
    "d=a/b\n",
    "e=a//b\n",
    "f=a%b\n",
    "print(\"addition\",c)\n",
    "print(\"division for float quotient\",d)\n",
    "print(\"divison for integer quotient\",e)\n",
    "print(\"division for remainder\",f)"
   ]
  },
  {
   "cell_type": "markdown",
   "id": "af6e2429",
   "metadata": {},
   "source": [
    "### 3. Write a Python program to find the area of a triangle?\n"
   ]
  },
  {
   "cell_type": "code",
   "execution_count": 8,
   "id": "c2236afc",
   "metadata": {},
   "outputs": [
    {
     "name": "stdout",
     "output_type": "stream",
     "text": [
      "Enter hight value:10\n",
      "Enter base value:10\n",
      "area of triangle: 50.0\n",
      "Do you want continue(y/n):y\n",
      "Enter hight value:12\n",
      "Enter base value:12\n",
      "area of triangle: 72.0\n",
      "Do you want continue(y/n):y\n",
      "Enter hight value:6\n",
      "Enter base value:6\n",
      "area of triangle: 18.0\n",
      "Do you want continue(y/n):n\n"
     ]
    }
   ],
   "source": [
    "c=\"y\"\n",
    "while(c==\"y\"):\n",
    "    h=int(input(\"Enter hight value:\"))\n",
    "    b=int(input(\"Enter base value:\"))\n",
    "    area=(1/2)*h*b\n",
    "    print(\"area of triangle:\",area)\n",
    "    c=input(\"Do you want continue(y/n):\")\n",
    "    if(choice==\"n\"):\n",
    "        break;"
   ]
  },
  {
   "cell_type": "markdown",
   "id": "b8140061",
   "metadata": {},
   "source": [
    "### 4. Write a Python program to swap two variables?\n"
   ]
  },
  {
   "cell_type": "code",
   "execution_count": 9,
   "id": "2b3f5c43",
   "metadata": {},
   "outputs": [
    {
     "name": "stdout",
     "output_type": "stream",
     "text": [
      "Enter a value:15\n",
      "Enter b value:10\n",
      "****swaping two numbers****\n",
      "value of a 10\n",
      "value of b 15\n"
     ]
    }
   ],
   "source": [
    "a=int(input(\"Enter a value:\"))\n",
    "b=int(input(\"Enter b value:\"))\n",
    "t=a \\\\ let us take 't' dummy variable\n",
    "a=b\n",
    "b=t\n",
    "print(\"****swaping two numbers****\")\n",
    "print(\"value of a\",a)\n",
    "print(\"value of b\",b)"
   ]
  },
  {
   "cell_type": "markdown",
   "id": "3f8054c1",
   "metadata": {},
   "source": [
    "### 5. Write a Python program to generate a random number?\n"
   ]
  },
  {
   "cell_type": "code",
   "execution_count": null,
   "id": "036878fc",
   "metadata": {},
   "outputs": [
    {
     "name": "stdout",
     "output_type": "stream",
     "text": [
      "41\n",
      "Do you want continue(y/n):y\n",
      "14\n",
      "Do you want continue(y/n):y\n",
      "27\n",
      "Do you want continue(y/n):y\n",
      "32\n"
     ]
    }
   ],
   "source": [
    "import random  \n",
    "c=\"y\"\n",
    "while(c==\"y\"):\n",
    "    n = random.randint(0,50)  \n",
    "    print(n)\n",
    "    c=input(\"Do you want continue(y/n):\")\n",
    "    if(c==\"n\"):\n",
    "        break;"
   ]
  },
  {
   "cell_type": "code",
   "execution_count": null,
   "id": "95783246",
   "metadata": {},
   "outputs": [],
   "source": []
  }
 ],
 "metadata": {
  "kernelspec": {
   "display_name": "Python 3 (ipykernel)",
   "language": "python",
   "name": "python3"
  },
  "language_info": {
   "codemirror_mode": {
    "name": "ipython",
    "version": 3
   },
   "file_extension": ".py",
   "mimetype": "text/x-python",
   "name": "python",
   "nbconvert_exporter": "python",
   "pygments_lexer": "ipython3",
   "version": "3.9.7"
  }
 },
 "nbformat": 4,
 "nbformat_minor": 5
}
