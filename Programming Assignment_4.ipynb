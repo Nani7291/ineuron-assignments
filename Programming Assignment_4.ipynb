{
 "cells": [
  {
   "cell_type": "markdown",
   "id": "20cb4340",
   "metadata": {},
   "source": [
    "## Programming Assignment_4\n",
    "----------------"
   ]
  },
  {
   "cell_type": "markdown",
   "id": "4fdb6695",
   "metadata": {},
   "source": [
    "### 1. Write a Python Program to Find the Factorial of a Number?"
   ]
  },
  {
   "cell_type": "code",
   "execution_count": 4,
   "id": "c84feffc",
   "metadata": {},
   "outputs": [
    {
     "name": "stdout",
     "output_type": "stream",
     "text": [
      "Enter n value:4\n",
      "Factorial values of the given number 24\n"
     ]
    }
   ],
   "source": [
    "def Factorial(n):\n",
    "    i=1\n",
    "    j=1\n",
    "    while i<=n:\n",
    "        j=j*i;\n",
    "        i=i+1;\n",
    "    return j;\n",
    "if __name__==\"__main__\":\n",
    "    x=int(input(\"Enter n value:\"))\n",
    "    print(\"Factorial values of the given number\",Factorial(x))"
   ]
  },
  {
   "cell_type": "markdown",
   "id": "e6beef62",
   "metadata": {},
   "source": [
    "### 2. Write a Python Program to Display the multiplication Table?"
   ]
  },
  {
   "cell_type": "code",
   "execution_count": 5,
   "id": "2dd81fe3",
   "metadata": {},
   "outputs": [
    {
     "name": "stdout",
     "output_type": "stream",
     "text": [
      "Enter n value:10\n",
      "10 X 1 = 10\n",
      "10 X 2 = 20\n",
      "10 X 3 = 30\n",
      "10 X 4 = 40\n",
      "10 X 5 = 50\n",
      "10 X 6 = 60\n",
      "10 X 7 = 70\n",
      "10 X 8 = 80\n",
      "10 X 9 = 90\n",
      "10 X 10 = 100\n"
     ]
    }
   ],
   "source": [
    "n=int(input(\"Enter n value:\"))\n",
    "for i in range(1,11):\n",
    "    r=n*i;\n",
    "    print(n,\"X\",i,\"=\",r)"
   ]
  },
  {
   "cell_type": "markdown",
   "id": "7de7eba5",
   "metadata": {},
   "source": [
    "### 3. Write a Python Program to Print the Fibonacci sequence?\n"
   ]
  },
  {
   "cell_type": "code",
   "execution_count": 11,
   "id": "ab70fa02",
   "metadata": {},
   "outputs": [
    {
     "name": "stdout",
     "output_type": "stream",
     "text": [
      "5\n",
      "Fibonacci series is:  0 1 0 1 1 "
     ]
    }
   ],
   "source": [
    "n = int(input())\n",
    "a = 0\n",
    "b = 1\n",
    "sum = 0\n",
    "count = 1\n",
    "print(\"Fibonacci series is: \", end = \" \")\n",
    "while(count <= n):\n",
    "  count += 1\n",
    "  print(a, end=\" \")\n",
    "  a = b\n",
    "  b = sum\n",
    "  sum = a + b"
   ]
  },
  {
   "cell_type": "markdown",
   "id": "0446442e",
   "metadata": {},
   "source": [
    "### 4. Write a Python Program to Check Armstrong Number?"
   ]
  },
  {
   "cell_type": "code",
   "execution_count": 16,
   "id": "46d9be90",
   "metadata": {},
   "outputs": [
    {
     "name": "stdout",
     "output_type": "stream",
     "text": [
      "Enter number:153\n",
      "given number armstrong= 153\n"
     ]
    }
   ],
   "source": [
    "def armstrong(n):\n",
    "    a=n\n",
    "    b=0\n",
    "    while(n>0):\n",
    "        r=n%10\n",
    "        b=b+r*r*r\n",
    "        n=n//10\n",
    "    if(a==b):\n",
    "        print(\"given number armstrong=\",a);\n",
    "    else:\n",
    "        print(\"given number not armstrong\",a);\n",
    "        \n",
    "if __name__==\"__main__\":\n",
    "    n=int(input(\"Enter number:\"))\n",
    "    armstrong(n)"
   ]
  },
  {
   "cell_type": "markdown",
   "id": "a6f9adfe",
   "metadata": {},
   "source": [
    "### 5. Write a Python Program to Find Armstrong Number in an Interval?"
   ]
  },
  {
   "cell_type": "code",
   "execution_count": 17,
   "id": "a2fe5766",
   "metadata": {},
   "outputs": [
    {
     "name": "stdout",
     "output_type": "stream",
     "text": [
      "153\n",
      "370\n",
      "371\n",
      "407\n",
      "1634\n"
     ]
    }
   ],
   "source": [
    "lower = 100\n",
    "upper = 2000\n",
    "\n",
    "for num in range(lower, upper + 1):\n",
    "\n",
    "   # order of number\n",
    "   order = len(str(num))\n",
    "    \n",
    "   # initialize sum\n",
    "   sum = 0\n",
    "\n",
    "   temp = num\n",
    "   while temp > 0:\n",
    "       digit = temp % 10\n",
    "       sum += digit ** order\n",
    "       temp //= 10\n",
    "\n",
    "   if num == sum:\n",
    "       print(num)"
   ]
  },
  {
   "cell_type": "markdown",
   "id": "157cad60",
   "metadata": {},
   "source": [
    "### 6. Write a Python Program to Find the Sum of Natural Numbers?"
   ]
  },
  {
   "cell_type": "code",
   "execution_count": 18,
   "id": "c111644f",
   "metadata": {},
   "outputs": [
    {
     "name": "stdout",
     "output_type": "stream",
     "text": [
      "Enter number:1994\n",
      "Sum of given numbers= 23\n"
     ]
    }
   ],
   "source": [
    "def sumdigit(n):\n",
    "    s=0\n",
    "    while(n>0):\n",
    "        r=n%10\n",
    "        s=s+r\n",
    "        n=n//10\n",
    "    print(\"Sum of given numbers=\",s)\n",
    "\n",
    "if __name__==\"__main__\":\n",
    "    n=int(input(\"Enter number:\"))\n",
    "    sumdigit(n)"
   ]
  },
  {
   "cell_type": "code",
   "execution_count": null,
   "id": "d396d83b",
   "metadata": {},
   "outputs": [],
   "source": []
  }
 ],
 "metadata": {
  "kernelspec": {
   "display_name": "Python 3 (ipykernel)",
   "language": "python",
   "name": "python3"
  },
  "language_info": {
   "codemirror_mode": {
    "name": "ipython",
    "version": 3
   },
   "file_extension": ".py",
   "mimetype": "text/x-python",
   "name": "python",
   "nbconvert_exporter": "python",
   "pygments_lexer": "ipython3",
   "version": "3.9.7"
  }
 },
 "nbformat": 4,
 "nbformat_minor": 5
}
