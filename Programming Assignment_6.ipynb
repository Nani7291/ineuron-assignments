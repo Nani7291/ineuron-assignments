{
 "cells": [
  {
   "cell_type": "markdown",
   "id": "84a41a9f",
   "metadata": {},
   "source": [
    "# Programming Basic Assignment 6"
   ]
  },
  {
   "cell_type": "markdown",
   "id": "a4b40558",
   "metadata": {},
   "source": [
    "### 1. Write a Python Program to Display Fibonacci Sequence Using Recursion?"
   ]
  },
  {
   "cell_type": "code",
   "execution_count": 3,
   "id": "81286346",
   "metadata": {},
   "outputs": [
    {
     "name": "stdout",
     "output_type": "stream",
     "text": [
      "Fibonacci sequence:\n",
      "0 1 1 2 3 5 8 13 21 34 "
     ]
    }
   ],
   "source": [
    "# Python program to display the Fibonacci sequence\n",
    "\n",
    "def recur_fibo(n):\n",
    "   if n <= 1:\n",
    "       return n\n",
    "   else:\n",
    "       return(recur_fibo(n-1) + recur_fibo(n-2))\n",
    "\n",
    "nterms = 10\n",
    "\n",
    "# check if the number of terms is valid\n",
    "if nterms <= 0:\n",
    "   print(\"Plese enter a positive integer\")\n",
    "else:\n",
    "   print(\"Fibonacci sequence:\")\n",
    "   for i in range(nterms):\n",
    "       print(recur_fibo(i),end=\" \")"
   ]
  },
  {
   "cell_type": "markdown",
   "id": "d7a57f60",
   "metadata": {},
   "source": [
    "### 2. Write a Python Program to Find Factorial of Number Using Recursion?"
   ]
  },
  {
   "cell_type": "code",
   "execution_count": 5,
   "id": "2da151da",
   "metadata": {},
   "outputs": [
    {
     "name": "stdout",
     "output_type": "stream",
     "text": [
      "Enter any value:4\n",
      "The factorial of 4 is 24\n"
     ]
    }
   ],
   "source": [
    "def recur_factorial(n):\n",
    "   if n == 1:\n",
    "       return n\n",
    "   else:\n",
    "       return n*recur_factorial(n-1)\n",
    "\n",
    "num = int(input(\"Enter any value:\"))\n",
    "\n",
    "# check if the number is negative\n",
    "if num < 0:\n",
    "   print(\"Sorry, factorial does not exist for negative numbers\")\n",
    "elif num == 0:\n",
    "   print(\"The factorial of 0 is 1\")\n",
    "else:\n",
    "   print(\"The factorial of\", num, \"is\", recur_factorial(num))"
   ]
  },
  {
   "cell_type": "markdown",
   "id": "0357b86f",
   "metadata": {},
   "source": [
    "### 3. Write a Python Program to calculate your Body Mass Index?"
   ]
  },
  {
   "cell_type": "code",
   "execution_count": 8,
   "id": "6da05d74",
   "metadata": {},
   "outputs": [
    {
     "name": "stdout",
     "output_type": "stream",
     "text": [
      "Input your height in Feet: 5.3\n",
      "Input your weight in Kilogram: 1\n",
      "Your body mass index is:  0.04\n"
     ]
    }
   ],
   "source": [
    "height = float(input(\"Input your height in Feet: \"))\n",
    "weight = float(input(\"Input your weight in Kilogram: \"))\n",
    "print(\"Your body mass index is: \", round(weight / (height * height), 2))"
   ]
  },
  {
   "cell_type": "markdown",
   "id": "96d344a4",
   "metadata": {},
   "source": [
    "### 4. Write a Python Program to calculate the natural logarithm of any number?"
   ]
  },
  {
   "cell_type": "code",
   "execution_count": 9,
   "id": "e52f8ee3",
   "metadata": {},
   "outputs": [
    {
     "name": "stdout",
     "output_type": "stream",
     "text": [
      "Enter any value:2\n",
      "Natural logarithm value: 0.6931471805599453\n"
     ]
    }
   ],
   "source": [
    "import math\n",
    "x=int(input(\"Enter any value:\"))\n",
    "y=math.log(x)\n",
    "print(\"Natural logarithm value:\",y)\n"
   ]
  },
  {
   "cell_type": "markdown",
   "id": "11c0d92c",
   "metadata": {},
   "source": [
    "\n",
    "### 5. Write a Python Program for cube sum of first n natural numbers?\n"
   ]
  },
  {
   "cell_type": "code",
   "execution_count": 12,
   "id": "499102c4",
   "metadata": {},
   "outputs": [
    {
     "name": "stdout",
     "output_type": "stream",
     "text": [
      "enter n: 2\n",
      "sum of cubes of first 2 natural numbers:  9\n"
     ]
    }
   ],
   "source": [
    "def CubeSum(n):\n",
    "    s=0\n",
    "    for i in range(n+1):\n",
    "        s+=i**3\n",
    "    return s\n",
    "n=int(input(\"enter n: \"))\n",
    "print(\"sum of cubes of first {} natural numbers: \".format(n),CubeSum(n))"
   ]
  },
  {
   "cell_type": "code",
   "execution_count": null,
   "id": "7a40c360",
   "metadata": {},
   "outputs": [],
   "source": []
  },
  {
   "cell_type": "code",
   "execution_count": null,
   "id": "2bbb7302",
   "metadata": {},
   "outputs": [],
   "source": []
  }
 ],
 "metadata": {
  "kernelspec": {
   "display_name": "Python 3 (ipykernel)",
   "language": "python",
   "name": "python3"
  },
  "language_info": {
   "codemirror_mode": {
    "name": "ipython",
    "version": 3
   },
   "file_extension": ".py",
   "mimetype": "text/x-python",
   "name": "python",
   "nbconvert_exporter": "python",
   "pygments_lexer": "ipython3",
   "version": "3.9.7"
  }
 },
 "nbformat": 4,
 "nbformat_minor": 5
}
